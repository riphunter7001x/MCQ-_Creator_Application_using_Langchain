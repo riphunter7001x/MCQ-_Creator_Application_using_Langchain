{
 "cells": [
  {
   "cell_type": "code",
   "execution_count": 137,
   "metadata": {},
   "outputs": [],
   "source": [
    "import os \n",
    "import json\n",
    "import pandas as pd \n",
    "import numpy as np\n",
    "import traceback"
   ]
  },
  {
   "cell_type": "code",
   "execution_count": 138,
   "metadata": {},
   "outputs": [],
   "source": [
    "from langchain.chat_models import ChatOpenAI"
   ]
  },
  {
   "cell_type": "code",
   "execution_count": 139,
   "metadata": {},
   "outputs": [
    {
     "data": {
      "text/plain": [
       "True"
      ]
     },
     "execution_count": 139,
     "metadata": {},
     "output_type": "execute_result"
    }
   ],
   "source": [
    "from dotenv import load_dotenv\n",
    "load_dotenv()"
   ]
  },
  {
   "cell_type": "code",
   "execution_count": 140,
   "metadata": {},
   "outputs": [],
   "source": [
    "KEY = os.getenv(\"OPENAI_API_KEY\")"
   ]
  },
  {
   "cell_type": "code",
   "execution_count": null,
   "metadata": {},
   "outputs": [],
   "source": []
  },
  {
   "cell_type": "code",
   "execution_count": 141,
   "metadata": {},
   "outputs": [],
   "source": [
    "llm = ChatOpenAI( \n",
    "            openai_api_key = KEY,\n",
    "            model_name = \"gpt-3.5-turbo\"\n",
    "            )"
   ]
  },
  {
   "cell_type": "code",
   "execution_count": null,
   "metadata": {},
   "outputs": [],
   "source": []
  },
  {
   "cell_type": "code",
   "execution_count": 142,
   "metadata": {},
   "outputs": [],
   "source": [
    "# importing required libraries\n",
    "from langchain.llms import OpenAI \n",
    "from langchain.chat_models import ChatOpenAI\n",
    "from langchain.prompts import PromptTemplate\n",
    "from langchain.chains import LLMChain\n",
    "from langchain.chains import SequentialChain\n",
    "from langchain.callbacks import get_openai_callback\n",
    "import os\n",
    "import json\n",
    "import traceback\n",
    "import PyPDF2\n",
    "from dotenv import load_dotenv\n",
    "import pandas as pd"
   ]
  },
  {
   "cell_type": "code",
   "execution_count": 143,
   "metadata": {},
   "outputs": [],
   "source": [
    "response_json = {\n",
    "    \"1\": {\n",
    "        \"question\": \"multipal choice question\",\n",
    "        \"options\": {\n",
    "            \"a\": \"choice here\",\n",
    "            \"b\": \"choice here\",\n",
    "            \"c\": \"choice here\",\n",
    "            \"d\": \"choice here\",\n",
    "        },\n",
    "        \"answer\": \"correct_answer\"\n",
    "    },\n",
    "    \"2\": {\n",
    "        \"question\": \"multipal choice question\",\n",
    "        \"options\": {\n",
    "            \"a\": \"choice here\",\n",
    "            \"b\": \"choice here\",\n",
    "            \"c\": \"choice here\",\n",
    "            \"d\": \"choice here\",\n",
    "        },\n",
    "        \"answer\": \"correct_answer\"\n",
    "    },\n",
    "    \"3\": {\n",
    "        \"question\": \"multipal choice question\",\n",
    "        \"options\": {\n",
    "            \"a\": \"choice here\",\n",
    "            \"b\": \"choice here\",\n",
    "            \"c\": \"choice here\",\n",
    "            \"d\": \"choice here\",\n",
    "        },\n",
    "        \"answer\": \"correct_answer\"\n",
    "    },\n",
    "    \"4\": {\n",
    "        \"question\": \"multipal choice question\",\n",
    "        \"options\": {\n",
    "            \"a\": \"choice here\",\n",
    "            \"b\": \"choice here\",\n",
    "            \"c\": \"choice here\",\n",
    "            \"d\": \"choice here\",\n",
    "        },\n",
    "        \"answer\": \"correct_answer\"\n",
    "    },\n",
    "    \"5\": {\n",
    "        \"question\": \"multipal choice question\",\n",
    "        \"options\": {\n",
    "            \"a\": \"choice here\",\n",
    "            \"b\": \"choice here\",\n",
    "            \"c\": \"choice here\",\n",
    "            \"d\": \"choice here\",\n",
    "        },\n",
    "        \"answer\": \"correct_answer\"\n",
    "    }\n",
    "}\n"
   ]
  },
  {
   "cell_type": "code",
   "execution_count": 144,
   "metadata": {},
   "outputs": [],
   "source": [
    "TEMPLATE = \"\"\"\n",
    "Text: {text}\n",
    "You are an expert MCQ (multiple-choice question) maker. Given the above text, it is your job to create a quiz for {number} multiple-choice questions for {subject} students in {tone} tone.\n",
    "Make sure that questions are not repeated at all, check all questions to confirm text accuracy as well.\n",
    "Ensure making {number} MCQs.\n",
    "### RESPONSE_JSON \n",
    "{response_json}\n",
    "\"\"\"\n"
   ]
  },
  {
   "cell_type": "code",
   "execution_count": 145,
   "metadata": {},
   "outputs": [
    {
     "data": {
      "text/plain": [
       "'\\nText: {text}\\nYou are an expert MCQ (multiple-choice question) maker. Given the above text, it is your job to create a quiz for {number} multiple-choice questions for {subject} students in {tone} tone.\\nMake sure that questions are not repeated at all, check all questions to confirm text accuracy as well.\\nEnsure making {number} MCQs.\\n### RESPONSE_JSON \\n{response_json}\\n'"
      ]
     },
     "execution_count": 145,
     "metadata": {},
     "output_type": "execute_result"
    }
   ],
   "source": [
    "TEMPLATE"
   ]
  },
  {
   "cell_type": "code",
   "execution_count": 147,
   "metadata": {},
   "outputs": [],
   "source": [
    "# lest write prompta\n",
    "\n",
    "mcq_genration_prompt= PromptTemplate(\n",
    "    input_variables = [\"text\",\"number\",\"subject\",\"tone\",\"response_json\"],\n",
    "    template = TEMPLATE\n",
    "    \n",
    ")"
   ]
  },
  {
   "cell_type": "code",
   "execution_count": 148,
   "metadata": {},
   "outputs": [],
   "source": [
    "quiz_chain= LLMChain(llm=llm,prompt=mcq_genration_prompt,output_key=\"quiz\",verbose=True)"
   ]
  },
  {
   "cell_type": "code",
   "execution_count": 149,
   "metadata": {},
   "outputs": [],
   "source": [
    "evaluation_template = \"\"\"\n",
    "You are an expert English grammarian and writer. Given a multiple-choice quiz for {subject} students,\n",
    "you need to evaluate the complexity of questions and provide a complete analysis. Use a maximum of 50 words to describe complexity.\n",
    "If the quiz doesn't align with students' cognitive and analytical abilities,\n",
    "update questions needing changes and adjust the tone to better suit students.\n",
    "Quiz MCQ:\n",
    "{quiz}\n",
    "\n",
    "Check from an expert English writer of the above quiz:\n",
    "\"\"\"\n"
   ]
  },
  {
   "cell_type": "code",
   "execution_count": 150,
   "metadata": {},
   "outputs": [],
   "source": [
    "evalutaion_prompt = PromptTemplate(\n",
    "    input_variables= [\"subject\",\"quiz\"],\n",
    "    template= evaluation_template\n",
    ") "
   ]
  },
  {
   "cell_type": "code",
   "execution_count": 151,
   "metadata": {},
   "outputs": [],
   "source": [
    "evalutaion_chain= LLMChain(llm=llm,prompt=evalutaion_prompt,output_key=\"review\",verbose=True)"
   ]
  },
  {
   "cell_type": "code",
   "execution_count": 152,
   "metadata": {},
   "outputs": [],
   "source": [
    "genrate_eval_chain = SequentialChain(\n",
    "    chains = [quiz_chain,evalutaion_chain],\n",
    "    input_variables = [\"text\",\"number\",\"subject\",\"tone\",\"response_json\"],\n",
    "    output_variables = [\"quiz\",\"review\"],\n",
    "    verbose= True\n",
    ")"
   ]
  },
  {
   "cell_type": "code",
   "execution_count": 153,
   "metadata": {},
   "outputs": [],
   "source": [
    "file_path=\"C:\\github\\openai\\MCQ_genrator\\data.txt\"\n",
    "with open(file_path,\"r\") as file:\n",
    "    text = file.read()"
   ]
  },
  {
   "cell_type": "code",
   "execution_count": 154,
   "metadata": {},
   "outputs": [
    {
     "name": "stdout",
     "output_type": "stream",
     "text": [
      "The term machine learning was coined in 1959 by Arthur Samuel, an IBM employee and pioneer in the field of computer gaming and artificial intelligence.[9][10] The synonym self-teaching computers was also used in this time period.[11][12]\n",
      "\n",
      "Although the earliest machine learning model was introduced in the 1950s when Arthur Samuel invented a program that calculated the winning chance in checkers for each side, the history of machine learning roots back to decades of human desire and effort to study human cognitive processes.[13] In 1949, Canadian psychologist Donald Hebb published the book The Organization of Behavior, in which he introduced a theoretical neural structure formed by certain interactions among nerve cells.[14] Hebb's model of neurons interacting with one another set a groundwork for how AIs and machine learning algorithms work under nodes, or artificial neurons used by computers to communicate data.[13] Other researchers who have studied human cognitive systems contributed to the modern machine learning technologies as well, including logician Walter Pitts and Warren McCulloch, who proposed the early mathematical models of neural networks to come up with algorithms that mirror human thought processes.[13]\n",
      "\n",
      "By the early 1960s an experimental \"learning machine\" with punched tape memory, called Cybertron, had been developed by Raytheon Company to analyze sonar signals, electrocardiograms, and speech patterns using rudimentary reinforcement learning. It was repetitively \"trained\" by a human operator/teacher to recognize patterns and equipped with a \"goof\" button to cause it to re-evaluate incorrect decisions.[15] A representative book on research into machine learning during the 1960s was Nilsson's book on Learning Machines, dealing mostly with machine learning for pattern classification.[16] Interest related to pattern recognition continued into the 1970s, as described by Duda and Hart in 1973.[17] In 1981 a report was given on using teaching strategies so that an artificial neural network learns to recognize 40 characters (26 letters, 10 digits, and 4 special symbols) from a computer terminal.[18]\n",
      "\n",
      "Tom M. Mitchell provided a widely quoted, more formal definition of the algorithms studied in the machine learning field: \"A computer program is said to learn from experience E with respect to some class of tasks T and performance measure P if its performance at tasks in T, as measured by P, improves with experience E.\"[19] This definition of the tasks in which machine learning is concerned offers a fundamentally operational definition rather than defining the field in cognitive terms. This follows Alan Turing's proposal in his paper \"Computing Machinery and Intelligence\", in which the question \"Can machines think?\" is replaced with the question \"Can machines do what we (as thinking entities) can do?\".[20]\n",
      "\n",
      "Modern-day machine learning has two objectives. One is to classify data based on models which have been developed; the other purpose is to make predictions for future outcomes based on these models. A hypothetical algorithm specific to classifying data may use computer vision of moles coupled with supervised learning in order to train it to classify the cancerous moles. A machine learning algorithm for stock trading may inform the trader of future potential predictions.[21]\n"
     ]
    }
   ],
   "source": [
    "print(text)"
   ]
  },
  {
   "cell_type": "code",
   "execution_count": 155,
   "metadata": {},
   "outputs": [
    {
     "data": {
      "text/plain": [
       "'{\"1\": {\"question\": \"multipal choice question\", \"options\": {\"a\": \"choice here\", \"b\": \"choice here\", \"c\": \"choice here\", \"d\": \"choice here\"}, \"answer\": \"correct_answer\"}, \"2\": {\"question\": \"multipal choice question\", \"options\": {\"a\": \"choice here\", \"b\": \"choice here\", \"c\": \"choice here\", \"d\": \"choice here\"}, \"answer\": \"correct_answer\"}, \"3\": {\"question\": \"multipal choice question\", \"options\": {\"a\": \"choice here\", \"b\": \"choice here\", \"c\": \"choice here\", \"d\": \"choice here\"}, \"answer\": \"correct_answer\"}, \"4\": {\"question\": \"multipal choice question\", \"options\": {\"a\": \"choice here\", \"b\": \"choice here\", \"c\": \"choice here\", \"d\": \"choice here\"}, \"answer\": \"correct_answer\"}, \"5\": {\"question\": \"multipal choice question\", \"options\": {\"a\": \"choice here\", \"b\": \"choice here\", \"c\": \"choice here\", \"d\": \"choice here\"}, \"answer\": \"correct_answer\"}}'"
      ]
     },
     "execution_count": 155,
     "metadata": {},
     "output_type": "execute_result"
    }
   ],
   "source": [
    "json.dumps(response_json)"
   ]
  },
  {
   "cell_type": "code",
   "execution_count": 156,
   "metadata": {},
   "outputs": [],
   "source": [
    "NUMBER = 7\n",
    "SUBJECT = \"MACHINE LEARNIG\"\n",
    "TONE = \"SIMPLE\""
   ]
  },
  {
   "cell_type": "code",
   "execution_count": 157,
   "metadata": {},
   "outputs": [],
   "source": [
    "# with get_openai_callback as CB:\n",
    "#     response=genrate_eval_chain(\n",
    "#     {\n",
    "#         \"text\": text,\n",
    "#         \"number\": NUMBER,\n",
    "#         \"subject\": SUBJECT,\n",
    "#         \"tone\": TONE,\n",
    "#         \"response_json\": json.dumps(response_json)\n",
    "#     }  \n",
    "#     )"
   ]
  },
  {
   "cell_type": "code",
   "execution_count": 158,
   "metadata": {},
   "outputs": [],
   "source": [
    "# with get_openai_callback as cb:\n",
    "#     response = genrate_eval_chain({\n",
    "#         \"text\": text,\n",
    "#         \"number\": NUMBER,\n",
    "#         \"subject\": SUBJECT,\n",
    "#         \"tone\": TONE,\n",
    "#         \"response_json\": json.dumps(response_json)\n",
    "#     })\n"
   ]
  },
  {
   "cell_type": "code",
   "execution_count": 159,
   "metadata": {},
   "outputs": [
    {
     "name": "stdout",
     "output_type": "stream",
     "text": [
      "\n",
      "\n",
      "\u001b[1m> Entering new SequentialChain chain...\u001b[0m\n",
      "\n",
      "\n",
      "\u001b[1m> Entering new LLMChain chain...\u001b[0m\n",
      "Prompt after formatting:\n",
      "\u001b[32;1m\u001b[1;3m\n",
      "Text: The term machine learning was coined in 1959 by Arthur Samuel, an IBM employee and pioneer in the field of computer gaming and artificial intelligence.[9][10] The synonym self-teaching computers was also used in this time period.[11][12]\n",
      "\n",
      "Although the earliest machine learning model was introduced in the 1950s when Arthur Samuel invented a program that calculated the winning chance in checkers for each side, the history of machine learning roots back to decades of human desire and effort to study human cognitive processes.[13] In 1949, Canadian psychologist Donald Hebb published the book The Organization of Behavior, in which he introduced a theoretical neural structure formed by certain interactions among nerve cells.[14] Hebb's model of neurons interacting with one another set a groundwork for how AIs and machine learning algorithms work under nodes, or artificial neurons used by computers to communicate data.[13] Other researchers who have studied human cognitive systems contributed to the modern machine learning technologies as well, including logician Walter Pitts and Warren McCulloch, who proposed the early mathematical models of neural networks to come up with algorithms that mirror human thought processes.[13]\n",
      "\n",
      "By the early 1960s an experimental \"learning machine\" with punched tape memory, called Cybertron, had been developed by Raytheon Company to analyze sonar signals, electrocardiograms, and speech patterns using rudimentary reinforcement learning. It was repetitively \"trained\" by a human operator/teacher to recognize patterns and equipped with a \"goof\" button to cause it to re-evaluate incorrect decisions.[15] A representative book on research into machine learning during the 1960s was Nilsson's book on Learning Machines, dealing mostly with machine learning for pattern classification.[16] Interest related to pattern recognition continued into the 1970s, as described by Duda and Hart in 1973.[17] In 1981 a report was given on using teaching strategies so that an artificial neural network learns to recognize 40 characters (26 letters, 10 digits, and 4 special symbols) from a computer terminal.[18]\n",
      "\n",
      "Tom M. Mitchell provided a widely quoted, more formal definition of the algorithms studied in the machine learning field: \"A computer program is said to learn from experience E with respect to some class of tasks T and performance measure P if its performance at tasks in T, as measured by P, improves with experience E.\"[19] This definition of the tasks in which machine learning is concerned offers a fundamentally operational definition rather than defining the field in cognitive terms. This follows Alan Turing's proposal in his paper \"Computing Machinery and Intelligence\", in which the question \"Can machines think?\" is replaced with the question \"Can machines do what we (as thinking entities) can do?\".[20]\n",
      "\n",
      "Modern-day machine learning has two objectives. One is to classify data based on models which have been developed; the other purpose is to make predictions for future outcomes based on these models. A hypothetical algorithm specific to classifying data may use computer vision of moles coupled with supervised learning in order to train it to classify the cancerous moles. A machine learning algorithm for stock trading may inform the trader of future potential predictions.[21]\n",
      "You are an expert MCQ (multiple-choice question) maker. Given the above text, it is your job to create a quiz for 7 multiple-choice questions for MACHINE LEARNIG students in SIMPLE tone.\n",
      "Make sure that questions are not repeated at all, check all questions to confirm text accuracy as well.\n",
      "Ensure making 7 MCQs.\n",
      "### RESPONSE_JSON \n",
      "{\"1\": {\"question\": \"multipal choice question\", \"options\": {\"a\": \"choice here\", \"b\": \"choice here\", \"c\": \"choice here\", \"d\": \"choice here\"}, \"answer\": \"correct_answer\"}, \"2\": {\"question\": \"multipal choice question\", \"options\": {\"a\": \"choice here\", \"b\": \"choice here\", \"c\": \"choice here\", \"d\": \"choice here\"}, \"answer\": \"correct_answer\"}, \"3\": {\"question\": \"multipal choice question\", \"options\": {\"a\": \"choice here\", \"b\": \"choice here\", \"c\": \"choice here\", \"d\": \"choice here\"}, \"answer\": \"correct_answer\"}, \"4\": {\"question\": \"multipal choice question\", \"options\": {\"a\": \"choice here\", \"b\": \"choice here\", \"c\": \"choice here\", \"d\": \"choice here\"}, \"answer\": \"correct_answer\"}, \"5\": {\"question\": \"multipal choice question\", \"options\": {\"a\": \"choice here\", \"b\": \"choice here\", \"c\": \"choice here\", \"d\": \"choice here\"}, \"answer\": \"correct_answer\"}}\n",
      "\u001b[0m\n",
      "\n",
      "\u001b[1m> Finished chain.\u001b[0m\n",
      "\n",
      "\n",
      "\u001b[1m> Entering new LLMChain chain...\u001b[0m\n",
      "Prompt after formatting:\n",
      "\u001b[32;1m\u001b[1;3m\n",
      "You are an expert English grammarian and writer. Given a multiple-choice quiz for MACHINE LEARNIG students,\n",
      "you need to evaluate the complexity of questions and provide a complete analysis. Use a maximum of 50 words to describe complexity.\n",
      "If the quiz doesn't align with students' cognitive and analytical abilities,\n",
      "update questions needing changes and adjust the tone to better suit students.\n",
      "Quiz MCQ:\n",
      "{\n",
      "\"1\": {\n",
      "    \"question\": \"Who coined the term machine learning in 1959?\",\n",
      "    \"options\": {\n",
      "        \"a\": \"Donald Hebb\",\n",
      "        \"b\": \"Walter Pitts\",\n",
      "        \"c\": \"Arthur Samuel\",\n",
      "        \"d\": \"Warren McCulloch\"\n",
      "    },\n",
      "    \"answer\": \"c\"\n",
      "},\n",
      "\"2\": {\n",
      "    \"question\": \"What was the earliest machine learning model introduced by Arthur Samuel in the 1950s?\",\n",
      "    \"options\": {\n",
      "        \"a\": \"Weather forecasting algorithm\",\n",
      "        \"b\": \"Checkers winning chance calculation program\",\n",
      "        \"c\": \"Speech recognition software\",\n",
      "        \"d\": \"Medical diagnosis system\"\n",
      "    },\n",
      "    \"answer\": \"b\"\n",
      "},\n",
      "\"3\": {\n",
      "    \"question\": \"Which book by Canadian psychologist Donald Hebb introduced a theoretical neural structure?\",\n",
      "    \"options\": {\n",
      "        \"a\": \"The Organization of Behavior\",\n",
      "        \"b\": \"Learning Machines\",\n",
      "        \"c\": \"Computing Machinery and Intelligence\",\n",
      "        \"d\": \"The Origin of Species\"\n",
      "    },\n",
      "    \"answer\": \"a\"\n",
      "},\n",
      "\"4\": {\n",
      "    \"question\": \"Which company developed an experimental learning machine called Cybertron in the early 1960s?\",\n",
      "    \"options\": {\n",
      "        \"a\": \"IBM\",\n",
      "        \"b\": \"Microsoft\",\n",
      "        \"c\": \"Raytheon Company\",\n",
      "        \"d\": \"Apple\"\n",
      "    },\n",
      "    \"answer\": \"c\"\n",
      "},\n",
      "\"5\": {\n",
      "    \"question\": \"Who provided a formal definition of the algorithms studied in the machine learning field?\",\n",
      "    \"options\": {\n",
      "        \"a\": \"Alan Turing\",\n",
      "        \"b\": \"Tom M. Mitchell\",\n",
      "        \"c\": \"Arthur Samuel\",\n",
      "        \"d\": \"Donald Hebb\"\n",
      "    },\n",
      "    \"answer\": \"b\"\n",
      "}\n",
      "}\n",
      "\n",
      "Check from an expert English writer of the above quiz:\n",
      "\u001b[0m\n",
      "\n",
      "\u001b[1m> Finished chain.\u001b[0m\n",
      "\n",
      "\u001b[1m> Finished chain.\u001b[0m\n"
     ]
    }
   ],
   "source": [
    "response = genrate_eval_chain({\n",
    "    \"text\": text,\n",
    "    \"number\": NUMBER,\n",
    "    \"subject\": SUBJECT,\n",
    "    \"tone\": TONE,\n",
    "    \"response_json\": json.dumps(response_json)\n",
    "})\n"
   ]
  },
  {
   "cell_type": "code",
   "execution_count": 160,
   "metadata": {},
   "outputs": [
    {
     "data": {
      "text/plain": [
       "{'text': 'The term machine learning was coined in 1959 by Arthur Samuel, an IBM employee and pioneer in the field of computer gaming and artificial intelligence.[9][10] The synonym self-teaching computers was also used in this time period.[11][12]\\n\\nAlthough the earliest machine learning model was introduced in the 1950s when Arthur Samuel invented a program that calculated the winning chance in checkers for each side, the history of machine learning roots back to decades of human desire and effort to study human cognitive processes.[13] In 1949, Canadian psychologist Donald Hebb published the book The Organization of Behavior, in which he introduced a theoretical neural structure formed by certain interactions among nerve cells.[14] Hebb\\'s model of neurons interacting with one another set a groundwork for how AIs and machine learning algorithms work under nodes, or artificial neurons used by computers to communicate data.[13] Other researchers who have studied human cognitive systems contributed to the modern machine learning technologies as well, including logician Walter Pitts and Warren McCulloch, who proposed the early mathematical models of neural networks to come up with algorithms that mirror human thought processes.[13]\\n\\nBy the early 1960s an experimental \"learning machine\" with punched tape memory, called Cybertron, had been developed by Raytheon Company to analyze sonar signals, electrocardiograms, and speech patterns using rudimentary reinforcement learning. It was repetitively \"trained\" by a human operator/teacher to recognize patterns and equipped with a \"goof\" button to cause it to re-evaluate incorrect decisions.[15] A representative book on research into machine learning during the 1960s was Nilsson\\'s book on Learning Machines, dealing mostly with machine learning for pattern classification.[16] Interest related to pattern recognition continued into the 1970s, as described by Duda and Hart in 1973.[17] In 1981 a report was given on using teaching strategies so that an artificial neural network learns to recognize 40 characters (26 letters, 10 digits, and 4 special symbols) from a computer terminal.[18]\\n\\nTom M. Mitchell provided a widely quoted, more formal definition of the algorithms studied in the machine learning field: \"A computer program is said to learn from experience E with respect to some class of tasks T and performance measure P if its performance at tasks in T, as measured by P, improves with experience E.\"[19] This definition of the tasks in which machine learning is concerned offers a fundamentally operational definition rather than defining the field in cognitive terms. This follows Alan Turing\\'s proposal in his paper \"Computing Machinery and Intelligence\", in which the question \"Can machines think?\" is replaced with the question \"Can machines do what we (as thinking entities) can do?\".[20]\\n\\nModern-day machine learning has two objectives. One is to classify data based on models which have been developed; the other purpose is to make predictions for future outcomes based on these models. A hypothetical algorithm specific to classifying data may use computer vision of moles coupled with supervised learning in order to train it to classify the cancerous moles. A machine learning algorithm for stock trading may inform the trader of future potential predictions.[21]',\n",
       " 'number': 7,\n",
       " 'subject': 'MACHINE LEARNIG',\n",
       " 'tone': 'SIMPLE',\n",
       " 'response_json': '{\"1\": {\"question\": \"multipal choice question\", \"options\": {\"a\": \"choice here\", \"b\": \"choice here\", \"c\": \"choice here\", \"d\": \"choice here\"}, \"answer\": \"correct_answer\"}, \"2\": {\"question\": \"multipal choice question\", \"options\": {\"a\": \"choice here\", \"b\": \"choice here\", \"c\": \"choice here\", \"d\": \"choice here\"}, \"answer\": \"correct_answer\"}, \"3\": {\"question\": \"multipal choice question\", \"options\": {\"a\": \"choice here\", \"b\": \"choice here\", \"c\": \"choice here\", \"d\": \"choice here\"}, \"answer\": \"correct_answer\"}, \"4\": {\"question\": \"multipal choice question\", \"options\": {\"a\": \"choice here\", \"b\": \"choice here\", \"c\": \"choice here\", \"d\": \"choice here\"}, \"answer\": \"correct_answer\"}, \"5\": {\"question\": \"multipal choice question\", \"options\": {\"a\": \"choice here\", \"b\": \"choice here\", \"c\": \"choice here\", \"d\": \"choice here\"}, \"answer\": \"correct_answer\"}}',\n",
       " 'quiz': '{\\n\"1\": {\\n    \"question\": \"Who coined the term machine learning in 1959?\",\\n    \"options\": {\\n        \"a\": \"Donald Hebb\",\\n        \"b\": \"Walter Pitts\",\\n        \"c\": \"Arthur Samuel\",\\n        \"d\": \"Warren McCulloch\"\\n    },\\n    \"answer\": \"c\"\\n},\\n\"2\": {\\n    \"question\": \"What was the earliest machine learning model introduced by Arthur Samuel in the 1950s?\",\\n    \"options\": {\\n        \"a\": \"Weather forecasting algorithm\",\\n        \"b\": \"Checkers winning chance calculation program\",\\n        \"c\": \"Speech recognition software\",\\n        \"d\": \"Medical diagnosis system\"\\n    },\\n    \"answer\": \"b\"\\n},\\n\"3\": {\\n    \"question\": \"Which book by Canadian psychologist Donald Hebb introduced a theoretical neural structure?\",\\n    \"options\": {\\n        \"a\": \"The Organization of Behavior\",\\n        \"b\": \"Learning Machines\",\\n        \"c\": \"Computing Machinery and Intelligence\",\\n        \"d\": \"The Origin of Species\"\\n    },\\n    \"answer\": \"a\"\\n},\\n\"4\": {\\n    \"question\": \"Which company developed an experimental learning machine called Cybertron in the early 1960s?\",\\n    \"options\": {\\n        \"a\": \"IBM\",\\n        \"b\": \"Microsoft\",\\n        \"c\": \"Raytheon Company\",\\n        \"d\": \"Apple\"\\n    },\\n    \"answer\": \"c\"\\n},\\n\"5\": {\\n    \"question\": \"Who provided a formal definition of the algorithms studied in the machine learning field?\",\\n    \"options\": {\\n        \"a\": \"Alan Turing\",\\n        \"b\": \"Tom M. Mitchell\",\\n        \"c\": \"Arthur Samuel\",\\n        \"d\": \"Donald Hebb\"\\n    },\\n    \"answer\": \"b\"\\n}\\n}',\n",
       " 'review': 'The quiz questions are moderately complex for machine learning students. The vocabulary and concepts used may require some background knowledge. To better suit students, simplify questions and options, avoid jargon, and provide more context or explanations for each answer choice.'}"
      ]
     },
     "execution_count": 160,
     "metadata": {},
     "output_type": "execute_result"
    }
   ],
   "source": [
    "response"
   ]
  },
  {
   "cell_type": "code",
   "execution_count": 161,
   "metadata": {},
   "outputs": [],
   "source": [
    " quiz = response.get(\"quiz\")"
   ]
  },
  {
   "cell_type": "code",
   "execution_count": 162,
   "metadata": {},
   "outputs": [],
   "source": [
    " review = response.get(\"review\")"
   ]
  },
  {
   "cell_type": "code",
   "execution_count": 163,
   "metadata": {},
   "outputs": [],
   "source": [
    "quiz = json.loads(quiz)"
   ]
  },
  {
   "cell_type": "code",
   "execution_count": 164,
   "metadata": {},
   "outputs": [
    {
     "data": {
      "text/plain": [
       "{'1': {'question': 'Who coined the term machine learning in 1959?',\n",
       "  'options': {'a': 'Donald Hebb',\n",
       "   'b': 'Walter Pitts',\n",
       "   'c': 'Arthur Samuel',\n",
       "   'd': 'Warren McCulloch'},\n",
       "  'answer': 'c'},\n",
       " '2': {'question': 'What was the earliest machine learning model introduced by Arthur Samuel in the 1950s?',\n",
       "  'options': {'a': 'Weather forecasting algorithm',\n",
       "   'b': 'Checkers winning chance calculation program',\n",
       "   'c': 'Speech recognition software',\n",
       "   'd': 'Medical diagnosis system'},\n",
       "  'answer': 'b'},\n",
       " '3': {'question': 'Which book by Canadian psychologist Donald Hebb introduced a theoretical neural structure?',\n",
       "  'options': {'a': 'The Organization of Behavior',\n",
       "   'b': 'Learning Machines',\n",
       "   'c': 'Computing Machinery and Intelligence',\n",
       "   'd': 'The Origin of Species'},\n",
       "  'answer': 'a'},\n",
       " '4': {'question': 'Which company developed an experimental learning machine called Cybertron in the early 1960s?',\n",
       "  'options': {'a': 'IBM',\n",
       "   'b': 'Microsoft',\n",
       "   'c': 'Raytheon Company',\n",
       "   'd': 'Apple'},\n",
       "  'answer': 'c'},\n",
       " '5': {'question': 'Who provided a formal definition of the algorithms studied in the machine learning field?',\n",
       "  'options': {'a': 'Alan Turing',\n",
       "   'b': 'Tom M. Mitchell',\n",
       "   'c': 'Arthur Samuel',\n",
       "   'd': 'Donald Hebb'},\n",
       "  'answer': 'b'}}"
      ]
     },
     "execution_count": 164,
     "metadata": {},
     "output_type": "execute_result"
    }
   ],
   "source": [
    "quiz"
   ]
  },
  {
   "cell_type": "code",
   "execution_count": 165,
   "metadata": {},
   "outputs": [],
   "source": [
    "quiz_table_data = []\n",
    "\n",
    "for key , value in quiz.items():\n",
    "    mcq = value[\"question\"]\n",
    "    options = \" | \".join(\n",
    "        [\n",
    "            f\"{option} : {option_value}\"\n",
    "            for option,option_value in value[\"options\"].items()\n",
    "        ]\n",
    "    )\n",
    "    correct = value[\"answer\"]\n",
    "    quiz_table_data.append({\"MCQ\":mcq,\"choices\":options,\"correct\": correct})"
   ]
  },
  {
   "cell_type": "code",
   "execution_count": 166,
   "metadata": {},
   "outputs": [
    {
     "data": {
      "text/html": [
       "<div>\n",
       "<style scoped>\n",
       "    .dataframe tbody tr th:only-of-type {\n",
       "        vertical-align: middle;\n",
       "    }\n",
       "\n",
       "    .dataframe tbody tr th {\n",
       "        vertical-align: top;\n",
       "    }\n",
       "\n",
       "    .dataframe thead th {\n",
       "        text-align: right;\n",
       "    }\n",
       "</style>\n",
       "<table border=\"1\" class=\"dataframe\">\n",
       "  <thead>\n",
       "    <tr style=\"text-align: right;\">\n",
       "      <th></th>\n",
       "      <th>MCQ</th>\n",
       "      <th>choices</th>\n",
       "      <th>correct</th>\n",
       "    </tr>\n",
       "  </thead>\n",
       "  <tbody>\n",
       "    <tr>\n",
       "      <th>0</th>\n",
       "      <td>Who coined the term machine learning in 1959?</td>\n",
       "      <td>a : Donald Hebb | b : Walter Pitts | c : Arthu...</td>\n",
       "      <td>c</td>\n",
       "    </tr>\n",
       "    <tr>\n",
       "      <th>1</th>\n",
       "      <td>What was the earliest machine learning model i...</td>\n",
       "      <td>a : Weather forecasting algorithm | b : Checke...</td>\n",
       "      <td>b</td>\n",
       "    </tr>\n",
       "    <tr>\n",
       "      <th>2</th>\n",
       "      <td>Which book by Canadian psychologist Donald Heb...</td>\n",
       "      <td>a : The Organization of Behavior | b : Learnin...</td>\n",
       "      <td>a</td>\n",
       "    </tr>\n",
       "    <tr>\n",
       "      <th>3</th>\n",
       "      <td>Which company developed an experimental learni...</td>\n",
       "      <td>a : IBM | b : Microsoft | c : Raytheon Company...</td>\n",
       "      <td>c</td>\n",
       "    </tr>\n",
       "    <tr>\n",
       "      <th>4</th>\n",
       "      <td>Who provided a formal definition of the algori...</td>\n",
       "      <td>a : Alan Turing | b : Tom M. Mitchell | c : Ar...</td>\n",
       "      <td>b</td>\n",
       "    </tr>\n",
       "  </tbody>\n",
       "</table>\n",
       "</div>"
      ],
      "text/plain": [
       "                                                 MCQ  \\\n",
       "0      Who coined the term machine learning in 1959?   \n",
       "1  What was the earliest machine learning model i...   \n",
       "2  Which book by Canadian psychologist Donald Heb...   \n",
       "3  Which company developed an experimental learni...   \n",
       "4  Who provided a formal definition of the algori...   \n",
       "\n",
       "                                             choices correct  \n",
       "0  a : Donald Hebb | b : Walter Pitts | c : Arthu...       c  \n",
       "1  a : Weather forecasting algorithm | b : Checke...       b  \n",
       "2  a : The Organization of Behavior | b : Learnin...       a  \n",
       "3  a : IBM | b : Microsoft | c : Raytheon Company...       c  \n",
       "4  a : Alan Turing | b : Tom M. Mitchell | c : Ar...       b  "
      ]
     },
     "execution_count": 166,
     "metadata": {},
     "output_type": "execute_result"
    }
   ],
   "source": [
    "pd.DataFrame(quiz_table_data)"
   ]
  },
  {
   "cell_type": "code",
   "execution_count": 167,
   "metadata": {},
   "outputs": [],
   "source": [
    "quiz = pd.DataFrame(quiz_table_data)"
   ]
  },
  {
   "cell_type": "code",
   "execution_count": 168,
   "metadata": {},
   "outputs": [],
   "source": [
    "quiz.to_csv(SUBJECT+\"quiz\")"
   ]
  },
  {
   "cell_type": "code",
   "execution_count": null,
   "metadata": {},
   "outputs": [],
   "source": []
  },
  {
   "cell_type": "code",
   "execution_count": null,
   "metadata": {},
   "outputs": [],
   "source": []
  },
  {
   "cell_type": "code",
   "execution_count": 128,
   "metadata": {},
   "outputs": [
    {
     "data": {
      "text/plain": [
       "datetime.datetime(2024, 3, 14, 22, 31, 8, 145867)"
      ]
     },
     "execution_count": 128,
     "metadata": {},
     "output_type": "execute_result"
    }
   ],
   "source": [
    "from datetime import datetime\n",
    "import uuid\n",
    "datetime.now()"
   ]
  },
  {
   "cell_type": "code",
   "execution_count": 135,
   "metadata": {},
   "outputs": [],
   "source": [
    "LOG_FILE = f\"{datetime.now().strftime('%m_%d_%Y_%H_%M_%S')}.log\""
   ]
  },
  {
   "cell_type": "code",
   "execution_count": 136,
   "metadata": {},
   "outputs": [
    {
     "data": {
      "text/plain": [
       "'03_14_2024_22_32_13.log'"
      ]
     },
     "execution_count": 136,
     "metadata": {},
     "output_type": "execute_result"
    }
   ],
   "source": [
    "LOG_FILE"
   ]
  },
  {
   "cell_type": "code",
   "execution_count": null,
   "metadata": {},
   "outputs": [],
   "source": [
    "# (C:\\github\\openai\\MCQ_genrator\\mcqgen) C:\\github\\openai\\MCQ_genrator>"
   ]
  }
 ],
 "metadata": {
  "kernelspec": {
   "display_name": "Python 3",
   "language": "python",
   "name": "python3"
  },
  "language_info": {
   "codemirror_mode": {
    "name": "ipython",
    "version": 3
   },
   "file_extension": ".py",
   "mimetype": "text/x-python",
   "name": "python",
   "nbconvert_exporter": "python",
   "pygments_lexer": "ipython3",
   "version": "3.8.18"
  }
 },
 "nbformat": 4,
 "nbformat_minor": 2
}
